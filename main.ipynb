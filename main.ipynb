{
 "metadata": {
  "language_info": {
   "codemirror_mode": {
    "name": "ipython",
    "version": 3
   },
   "file_extension": ".py",
   "mimetype": "text/x-python",
   "name": "python",
   "nbconvert_exporter": "python",
   "pygments_lexer": "ipython3",
   "version": "3.9.1"
  },
  "orig_nbformat": 2,
  "kernelspec": {
   "name": "python391jvsc74a57bd0d00eccb87db849100d1f9ef0bd9415223e02a949b8fae575437bd068fae890f3",
   "display_name": "Python 3.9.1 64-bit"
  }
 },
 "nbformat": 4,
 "nbformat_minor": 2,
 "cells": [
  {
   "cell_type": "code",
   "execution_count": 1,
   "metadata": {},
   "outputs": [],
   "source": [
    "import os"
   ]
  },
  {
   "cell_type": "code",
   "execution_count": 17,
   "metadata": {},
   "outputs": [],
   "source": [
    "os.environ['GOOGLE_APPLICATION_CREDENTIALS'] = 'secretkey.json'"
   ]
  },
  {
   "cell_type": "code",
   "execution_count": 25,
   "metadata": {},
   "outputs": [
    {
     "output_type": "stream",
     "name": "stdout",
     "text": [
      "Audio content written to file output.mp3\n"
     ]
    }
   ],
   "source": [
    "from google.cloud import texttospeech\n",
    "\n",
    "client = texttospeech.TextToSpeechClient()\n",
    "\n",
    "synthesis_input = texttospeech.SynthesisInput(text=\"こんにちは\")\n",
    "\n",
    "voice = texttospeech.VoiceSelectionParams(\n",
    "    language_code=\"ja-JP\", ssml_gender=texttospeech.SsmlVoiceGender.NEUTRAL\n",
    ")\n",
    "\n",
    "audio_config = texttospeech.AudioConfig(\n",
    "    audio_encoding=texttospeech.AudioEncoding.MP3\n",
    ")\n",
    "\n",
    "response = client.synthesize_speech(\n",
    "    input=synthesis_input, voice=voice, audio_config=audio_config\n",
    ")\n",
    "\n",
    "filename = \"output.mp3\"\n",
    "with open(filename, \"wb\") as out:\n",
    "    out.write(response.audio_content)\n",
    "    print(f'Audio content written to file {filename}')"
   ]
  },
  {
   "cell_type": "code",
   "execution_count": 26,
   "metadata": {},
   "outputs": [
    {
     "output_type": "execute_result",
     "data": {
      "text/plain": [
       "<IPython.lib.display.Audio object>"
      ],
      "text/html": "\n                <audio  controls=\"controls\" >\n                    <source src=\"data:audio/wav;base64,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\" type=\"audio/wav\" />\n                    Your browser does not support the audio element.\n                </audio>\n              "
     },
     "metadata": {},
     "execution_count": 26
    }
   ],
   "source": [
    "from IPython.display import Audio\n",
    "Audio(response.audio_content)"
   ]
  },
  {
   "cell_type": "code",
   "execution_count": null,
   "metadata": {},
   "outputs": [],
   "source": [
    "gender_type = {\n",
    "    'default': texttospeech.SsmlVoiceGender.SSML_VOICE_GENDER_UNSPECIFIED\n",
    "    'male': texttospeech.SsmlVoiceGender.MALE\n",
    "    'female': texttospeech.SsmlVoiceGender.FEMALE\n",
    "    'neutral': texttospeech.SsmlVoiceGender.NEUTRAL\n",
    "}\n",
    "\n",
    "lang_code = {\n",
    "    '英語':'en-US'\n",
    "    '日本語':'ja-JP'\n",
    "}"
   ]
  }
 ]
}